{
 "cells": [
  {
   "cell_type": "markdown",
   "id": "67ff26d3",
   "metadata": {},
   "source": [
    "# Задание 1"
   ]
  },
  {
   "cell_type": "code",
   "execution_count": 14,
   "id": "1ea2f4a5",
   "metadata": {},
   "outputs": [],
   "source": [
    "import numpy as np\n",
    "def result_mark(weights, marks):\n",
    "    final = int(round(sum(weights * marks), 0))\n",
    "    return final\n",
    "w = np.array([0.3, 0.4, 0.2, 0.1])\n",
    "m = np.array([7, 10, 8, 6])\n",
    "assert result_mark(w, m) == 8"
   ]
  },
  {
   "cell_type": "markdown",
   "id": "068894d8",
   "metadata": {},
   "source": [
    "# Задание 2"
   ]
  },
  {
   "cell_type": "code",
   "execution_count": 94,
   "id": "00ce892d",
   "metadata": {},
   "outputs": [],
   "source": [
    "def change_array(first, num):\n",
    "    first[::3] = num\n",
    "    return first\n",
    "array = np.array([3, 14, 15, 92, 6])\n",
    "number = 8\n",
    "\n",
    "assert np.allclose(change_array(array, number), np.array([8, 14, 15, 8, 6]))"
   ]
  },
  {
   "cell_type": "markdown",
   "id": "1a7f0e9d",
   "metadata": {},
   "source": [
    "# Задание 3"
   ]
  },
  {
   "cell_type": "code",
   "execution_count": 102,
   "id": "d8a6eae2",
   "metadata": {},
   "outputs": [],
   "source": [
    "def find_close(array1, array2, precision):\n",
    "    a = (((array1 - array2)**2)**0.5)\n",
    "    i = np.array(np.where(a <= precision))\n",
    "    t = i.ravel()\n",
    "    return t\n",
    "array1 = np.array([3.1415, 2.7182, 1.6180, 6.6261])\n",
    "array2 = np.array([6.6730, 1.3807, -1,     6.0222])\n",
    "precision = 1.7\n",
    "res = find_close(array1, array2, precision)\n",
    "\n",
    "assert res.ndim == 1\n",
    "assert np.allclose(res, np.array([1, 3]))\n"
   ]
  },
  {
   "cell_type": "markdown",
   "id": "552cbf1f",
   "metadata": {},
   "source": [
    "# Задание 4"
   ]
  },
  {
   "cell_type": "code",
   "execution_count": 58,
   "id": "7e701588",
   "metadata": {},
   "outputs": [],
   "source": [
    "def block_matrix(block):\n",
    "    a = np.hstack((block, block))\n",
    "    b = np.vstack((a, a))\n",
    "    return b\n",
    "block = np.array([[1, 3, 3], [7, 0, 0]])\n",
    "block_matrix(block)\n",
    "assert np.allclose(\n",
    "    block_matrix(block),\n",
    "    np.array([[1, 3, 3, 1, 3, 3],\n",
    "              [7, 0, 0, 7, 0, 0],\n",
    "              [1, 3, 3, 1, 3, 3],\n",
    "              [7, 0, 0, 7, 0, 0]])\n",
    ")"
   ]
  },
  {
   "cell_type": "markdown",
   "id": "05bc30e0",
   "metadata": {},
   "source": [
    "# Задание 5"
   ]
  },
  {
   "cell_type": "code",
   "execution_count": 164,
   "id": "85b4f176",
   "metadata": {},
   "outputs": [
    {
     "data": {
      "text/plain": [
       "6750"
      ]
     },
     "execution_count": 164,
     "metadata": {},
     "output_type": "execute_result"
    }
   ],
   "source": [
    "def diag_prod(matrix):\n",
    "    a = len(matrix)* len(matrix[0])\n",
    "    m = matrix.reshape(1, a)\n",
    "    t = m.ravel()[::(len(matrix)+1)]\n",
    "    t = t[t != 0]\n",
    "    prod = np.prod(t)\n",
    "    return prod\n",
    "matrix = np.array([[0, 1, 2, 3, 5],\n",
    "                   [4, 5, 6, 7, 6],\n",
    "                   [8, 9, 10, 11, 9],\n",
    "                   [12, 13, 14, 15, 8], [8, 9, 10, 11, 9]])\n",
    "diag_prod(matrix)"
   ]
  },
  {
   "cell_type": "markdown",
   "id": "a552b7f1",
   "metadata": {},
   "source": [
    "# Задание 6 (в примерах с assert до 5 знаков после запятой, но в условии до 2-х, я сделала до 2-х)."
   ]
  },
  {
   "cell_type": "code",
   "execution_count": 220,
   "id": "0ced2ec1",
   "metadata": {},
   "outputs": [
    {
     "data": {
      "text/plain": [
       "array([[ 0.71, -0.39,  0.46],\n",
       "       [-1.41,  1.37,  0.93],\n",
       "       [ 0.71, -0.98, -1.39]])"
      ]
     },
     "execution_count": 220,
     "metadata": {},
     "output_type": "execute_result"
    }
   ],
   "source": [
    "def normalize(matrix):\n",
    "    m = np.mean(matrix, axis=0)\n",
    "    n = np.std(matrix, axis=0)\n",
    "    a = (matrix - m) / n\n",
    "    b = np.round(a, decimals = 2)\n",
    "    return b\n",
    "matrix = np.array([[1, 4, 4200], [0, 10, 5000], [1, 2, 1000]])\n",
    "normalize(matrix)"
   ]
  },
  {
   "cell_type": "markdown",
   "id": "fb7918da",
   "metadata": {},
   "source": [
    "# Задание 7"
   ]
  },
  {
   "cell_type": "code",
   "execution_count": 162,
   "id": "20442241",
   "metadata": {},
   "outputs": [],
   "source": [
    "def prevZeroMax(matrix):\n",
    "    is_zero = coefs == 0\n",
    "    a = coefs[1:][is_zero[:-1]].max()\n",
    "    return a\n",
    "coefs = np.array([1, 0, 1, 0, 4, 2, 0])\n",
    "\n",
    "assert prevZeroMax(coefs) == 4"
   ]
  },
  {
   "cell_type": "markdown",
   "id": "3dbeebbd",
   "metadata": {},
   "source": [
    "# Задание 8"
   ]
  },
  {
   "cell_type": "code",
   "execution_count": 112,
   "id": "12c7e231",
   "metadata": {},
   "outputs": [],
   "source": [
    "def make_symmetric(matrix):\n",
    "    n = matrix.T\n",
    "    il1 = np.tril_indices(len(n), -1)\n",
    "    matrix[il1] = n[il1]\n",
    "    return matrix\n",
    "matrix = np.array([[10, 21, 32, 49], [0, 53, 62, 78], [0, 0, 82, 92], [0, 0, 0, 10]])\n",
    "\n",
    "assert np.allclose(\n",
    "    make_symmetric(matrix),\n",
    "    np.array([[10, 21, 32, 49],\n",
    "              [21, 53, 62, 78],\n",
    "              [32, 62, 82, 92],\n",
    "              [49, 78, 92, 10]])\n",
    ")"
   ]
  },
  {
   "cell_type": "markdown",
   "id": "1d753154",
   "metadata": {},
   "source": [
    "# Задание 9"
   ]
  },
  {
   "cell_type": "code",
   "execution_count": 120,
   "id": "edcd88ea",
   "metadata": {},
   "outputs": [],
   "source": [
    "def construct_matrix(m, a, b):\n",
    "    s = np.arange(a, b+1)\n",
    "    l = len(s)\n",
    "    n = np.full((m, l), s)\n",
    "    return n\n",
    "m = 3\n",
    "a = 2\n",
    "b = 6\n",
    "\n",
    "assert np.allclose(\n",
    "    construct_matrix(m, a, b),\n",
    "    np.array([[2, 3, 4, 5, 6],\n",
    "              [2, 3, 4, 5, 6],\n",
    "              [2, 3, 4, 5, 6]])\n",
    ")"
   ]
  },
  {
   "cell_type": "markdown",
   "id": "bb6a872b",
   "metadata": {},
   "source": [
    "# Задание 10"
   ]
  },
  {
   "cell_type": "code",
   "execution_count": 167,
   "id": "83e62268",
   "metadata": {},
   "outputs": [],
   "source": [
    "def cosine_similarity(vec1, vec2):\n",
    "    a = np.dot(vec1, vec2)\n",
    "    v1 = np.sum(vec1**2)\n",
    "    v1s = v1**0.5\n",
    "    v2 = np.sum(vec2**2)\n",
    "    v2s = v2**0.5\n",
    "    itog = a/(np.dot(v1s, v2s))\n",
    "    return itog\n",
    "vec1 = np.array([-4, 2,  9, -8, 9, 0, -2])\n",
    "vec2 = np.array([ 3, 2, -4, -1, 3, 2,  2])\n",
    "\n",
    "assert np.allclose(cosine_similarity(vec1, vec2), -0.119929)"
   ]
  }
 ],
 "metadata": {
  "kernelspec": {
   "display_name": "Python 3 (ipykernel)",
   "language": "python",
   "name": "python3"
  },
  "language_info": {
   "codemirror_mode": {
    "name": "ipython",
    "version": 3
   },
   "file_extension": ".py",
   "mimetype": "text/x-python",
   "name": "python",
   "nbconvert_exporter": "python",
   "pygments_lexer": "ipython3",
   "version": "3.9.13"
  }
 },
 "nbformat": 4,
 "nbformat_minor": 5
}
